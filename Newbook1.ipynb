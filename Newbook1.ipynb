{
 "cells": [
  {
   "cell_type": "markdown",
   "id": "9c5571d0-1964-43f5-94f5-e423defc4807",
   "metadata": {},
   "source": [
    "Renamed the file"
   ]
  },
  {
   "cell_type": "code",
   "execution_count": 4,
   "id": "72fd5e79-b9a3-42d6-87f2-96f22e113592",
   "metadata": {},
   "outputs": [
    {
     "data": {
      "text/plain": [
       "2"
      ]
     },
     "execution_count": 4,
     "metadata": {},
     "output_type": "execute_result"
    }
   ],
   "source": [
    "1+1"
   ]
  },
  {
   "cell_type": "code",
   "execution_count": 5,
   "id": "c14ba8e9-d812-4e60-acd4-e6ad5cef991f",
   "metadata": {},
   "outputs": [
    {
     "data": {
      "text/plain": [
       "-2"
      ]
     },
     "execution_count": 5,
     "metadata": {},
     "output_type": "execute_result"
    }
   ],
   "source": [
    "1+1-4"
   ]
  },
  {
   "cell_type": "code",
   "execution_count": 6,
   "id": "46861c99-5367-47d3-a97b-ed74cd5e08a4",
   "metadata": {},
   "outputs": [
    {
     "data": {
      "text/plain": [
       "-6"
      ]
     },
     "execution_count": 6,
     "metadata": {},
     "output_type": "execute_result"
    }
   ],
   "source": [
    "1+4-15+4"
   ]
  },
  {
   "cell_type": "code",
   "execution_count": null,
   "id": "13d5f911-9698-494f-a189-96b4b1adc99d",
   "metadata": {},
   "outputs": [],
   "source": []
  }
 ],
 "metadata": {
  "kernelspec": {
   "display_name": "Python",
   "language": "python",
   "name": "conda-env-python-py"
  },
  "language_info": {
   "codemirror_mode": {
    "name": "ipython",
    "version": 3
   },
   "file_extension": ".py",
   "mimetype": "text/x-python",
   "name": "python",
   "nbconvert_exporter": "python",
   "pygments_lexer": "ipython3",
   "version": "3.6.13"
  }
 },
 "nbformat": 4,
 "nbformat_minor": 5
}
